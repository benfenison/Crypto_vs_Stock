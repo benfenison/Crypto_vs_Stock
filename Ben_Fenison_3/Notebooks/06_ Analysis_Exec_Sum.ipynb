{
 "cells": [
  {
   "cell_type": "markdown",
   "metadata": {},
   "source": [
    "# Analysis / Executive Summary"
   ]
  },
  {
   "cell_type": "markdown",
   "metadata": {},
   "source": [
    "# Analysis"
   ]
  },
  {
   "cell_type": "markdown",
   "metadata": {},
   "source": [
    "### The logistic regression had a accuracy score of 93.2%"
   ]
  },
  {
   "cell_type": "markdown",
   "metadata": {},
   "source": [
    "#### For the logistic Regression I used a L2 (Ridge) pentalty with cross validation of 5\n",
    "#### The Training Set scored a 100% but unforuntaly my model was slightly overfit and ended up scoring a 93.2%"
   ]
  },
  {
   "cell_type": "markdown",
   "metadata": {},
   "source": [
    "### The Random Forest Model had an accuracy score of 86% w/ best parameters:\n",
    "#### Random forst training score: 99.6%"
   ]
  },
  {
   "cell_type": "markdown",
   "metadata": {},
   "source": [
    "####   N_estimators =  150 trees\n",
    "####    Min_samples_split = 3 minimum sample splits\n",
    "####    Max_featuers = 1000 featuers"
   ]
  },
  {
   "cell_type": "markdown",
   "metadata": {},
   "source": [
    "# Executive Summary"
   ]
  },
  {
   "cell_type": "markdown",
   "metadata": {},
   "source": [
    "#       My logistic model was the better model for my data with the better testing score & was not as overfit as my Random Forest Model. The top words that both subreddits had in common were neither about stock market of cryptocurrencies. I cannot fully come to a conclusion from my analysis, but I can assume that People who invest in Stock Market do not have a high probabiity of talking about investment opportunities in CryptoCurrency Markets, & Visa Versa.\n"
   ]
  }
 ],
 "metadata": {
  "kernelspec": {
   "display_name": "Python 3",
   "language": "python",
   "name": "python3"
  },
  "language_info": {
   "codemirror_mode": {
    "name": "ipython",
    "version": 3
   },
   "file_extension": ".py",
   "mimetype": "text/x-python",
   "name": "python",
   "nbconvert_exporter": "python",
   "pygments_lexer": "ipython3",
   "version": "3.6.5"
  }
 },
 "nbformat": 4,
 "nbformat_minor": 2
}
