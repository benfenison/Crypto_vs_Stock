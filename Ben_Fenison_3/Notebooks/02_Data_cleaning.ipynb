{
 "cells": [
  {
   "cell_type": "markdown",
   "metadata": {},
   "source": [
    "# Cleaning Data/ Organizing it to DataFrame"
   ]
  },
  {
   "cell_type": "markdown",
   "metadata": {},
   "source": [
    "#### Importing neccessary libraries"
   ]
  },
  {
   "cell_type": "code",
   "execution_count": 2,
   "metadata": {},
   "outputs": [],
   "source": [
    "import pandas as pd\n",
    "import json\n",
    "\n",
    "import numpy as np\n",
    "import time\n",
    "np.random.seed(42)\n",
    "\n",
    "\n",
    "import matplotlib.pyplot as plt"
   ]
  },
  {
   "cell_type": "markdown",
   "metadata": {},
   "source": [
    "### Importing my raw json file into this notebook in order to extract the information I want from it and organize it"
   ]
  },
  {
   "cell_type": "code",
   "execution_count": 3,
   "metadata": {
    "scrolled": true
   },
   "outputs": [],
   "source": [
    "with open('../Data/stock_random.json', 'r') as f:\n",
    "    stock_posts = json.load(f)\n",
    "with open('../Data/crypto_random.json', 'r') as f:\n",
    "    crypto_posts = json.load(f)"
   ]
  },
  {
   "cell_type": "code",
   "execution_count": 4,
   "metadata": {},
   "outputs": [],
   "source": [
    "crypto_df = pd.DataFrame(crypto_posts)\n",
    "stock_df = pd.DataFrame(stock_posts)"
   ]
  },
  {
   "cell_type": "markdown",
   "metadata": {},
   "source": [
    " ## Defining a function to extract specific features  ~ In this case, it is SelfText , Title , & which subreddit each item belongs to"
   ]
  },
  {
   "cell_type": "code",
   "execution_count": 5,
   "metadata": {},
   "outputs": [],
   "source": [
    "def subreddit_content(df,content):\n",
    "    contents =[]\n",
    "    for i, x in enumerate(df['data']):\n",
    "        contents.append(x[content])\n",
    "    df[content] = contents\n",
    "    return"
   ]
  },
  {
   "cell_type": "code",
   "execution_count": 6,
   "metadata": {},
   "outputs": [],
   "source": [
    "subreddit_content(stock_df, 'selftext')\n",
    "subreddit_content(stock_df, 'title')\n",
    "subreddit_content(stock_df, 'subreddit')"
   ]
  },
  {
   "cell_type": "code",
   "execution_count": 7,
   "metadata": {},
   "outputs": [],
   "source": [
    "subreddit_content(crypto_df, 'selftext')\n",
    "subreddit_content(crypto_df, 'title')\n",
    "subreddit_content(crypto_df, 'subreddit')"
   ]
  },
  {
   "cell_type": "markdown",
   "metadata": {},
   "source": [
    "### Once my new columns were added to my seperate subreddit dataframes, I dropped the original 'Data' & 'Kind' columns to have my self, title, and subreddit columns only."
   ]
  },
  {
   "cell_type": "code",
   "execution_count": 8,
   "metadata": {},
   "outputs": [],
   "source": [
    "stock_text_title = stock_df.drop(columns = stock_df[['data', 'kind']])\n",
    "crypto_text_title = crypto_df.drop(columns = crypto_df[['data', 'kind']])\n"
   ]
  },
  {
   "cell_type": "code",
   "execution_count": 9,
   "metadata": {
    "scrolled": true
   },
   "outputs": [
    {
     "data": {
      "text/plain": [
       "((2229, 3), (2217, 3))"
      ]
     },
     "execution_count": 9,
     "metadata": {},
     "output_type": "execute_result"
    }
   ],
   "source": [
    "stock_text_title.shape , crypto_text_title.shape"
   ]
  },
  {
   "cell_type": "markdown",
   "metadata": {},
   "source": [
    "### I Also dropped duplicates in my data"
   ]
  },
  {
   "cell_type": "code",
   "execution_count": 10,
   "metadata": {},
   "outputs": [],
   "source": [
    "crypto_text_title.drop_duplicates(inplace = True)\n",
    "stock_text_title.drop_duplicates(inplace = True)"
   ]
  },
  {
   "cell_type": "markdown",
   "metadata": {},
   "source": [
    "#### Concatenated both subreddit dataframes together"
   ]
  },
  {
   "cell_type": "code",
   "execution_count": 11,
   "metadata": {
    "scrolled": false
   },
   "outputs": [],
   "source": [
    "stock_crypto_data = pd.concat([stock_text_title, crypto_text_title], \n",
    "           axis = 0,\n",
    "          join = 'outer',\n",
    "          ignore_index = True)"
   ]
  },
  {
   "cell_type": "markdown",
   "metadata": {},
   "source": [
    "### Creating a numerical term for my subreddit column and naming it 'y' & adding it to my dataframe to be used in other notebooks for modeling"
   ]
  },
  {
   "cell_type": "code",
   "execution_count": 12,
   "metadata": {},
   "outputs": [],
   "source": [
    "y = []\n",
    "for i in stock_crypto_data.subreddit:\n",
    "    if i == 'StockMarket':\n",
    "        y.append(1)\n",
    "    else:\n",
    "        y.append(0)\n",
    "stock_crypto_data['y'] = y"
   ]
  },
  {
   "cell_type": "markdown",
   "metadata": {},
   "source": [
    "##### Viewing my concatenated dataframe to make sure it has all my features before exporting it to a csv"
   ]
  },
  {
   "cell_type": "code",
   "execution_count": 13,
   "metadata": {
    "scrolled": true
   },
   "outputs": [
    {
     "data": {
      "text/plain": [
       "(2121, 4)"
      ]
     },
     "execution_count": 13,
     "metadata": {},
     "output_type": "execute_result"
    }
   ],
   "source": [
    "stock_crypto_data.shape"
   ]
  },
  {
   "cell_type": "code",
   "execution_count": 14,
   "metadata": {
    "scrolled": false
   },
   "outputs": [
    {
     "data": {
      "text/html": [
       "<div>\n",
       "<style scoped>\n",
       "    .dataframe tbody tr th:only-of-type {\n",
       "        vertical-align: middle;\n",
       "    }\n",
       "\n",
       "    .dataframe tbody tr th {\n",
       "        vertical-align: top;\n",
       "    }\n",
       "\n",
       "    .dataframe thead th {\n",
       "        text-align: right;\n",
       "    }\n",
       "</style>\n",
       "<table border=\"1\" class=\"dataframe\">\n",
       "  <thead>\n",
       "    <tr style=\"text-align: right;\">\n",
       "      <th></th>\n",
       "      <th>selftext</th>\n",
       "      <th>title</th>\n",
       "      <th>subreddit</th>\n",
       "      <th>y</th>\n",
       "    </tr>\n",
       "  </thead>\n",
       "  <tbody>\n",
       "    <tr>\n",
       "      <th>2118</th>\n",
       "      <td></td>\n",
       "      <td>Goldman Sachs Folds Weak Hand; No Big Deal, Sa...</td>\n",
       "      <td>CryptoCurrency</td>\n",
       "      <td>0</td>\n",
       "    </tr>\n",
       "    <tr>\n",
       "      <th>2119</th>\n",
       "      <td></td>\n",
       "      <td>Philippine Lawmakers Plan to Publish Crypto Ex...</td>\n",
       "      <td>CryptoCurrency</td>\n",
       "      <td>0</td>\n",
       "    </tr>\n",
       "    <tr>\n",
       "      <th>2120</th>\n",
       "      <td></td>\n",
       "      <td>Daily FUD: Cryptocurrency markets are in meltd...</td>\n",
       "      <td>CryptoCurrency</td>\n",
       "      <td>0</td>\n",
       "    </tr>\n",
       "  </tbody>\n",
       "</table>\n",
       "</div>"
      ],
      "text/plain": [
       "     selftext                                              title  \\\n",
       "2118           Goldman Sachs Folds Weak Hand; No Big Deal, Sa...   \n",
       "2119           Philippine Lawmakers Plan to Publish Crypto Ex...   \n",
       "2120           Daily FUD: Cryptocurrency markets are in meltd...   \n",
       "\n",
       "           subreddit  y  \n",
       "2118  CryptoCurrency  0  \n",
       "2119  CryptoCurrency  0  \n",
       "2120  CryptoCurrency  0  "
      ]
     },
     "execution_count": 14,
     "metadata": {},
     "output_type": "execute_result"
    }
   ],
   "source": [
    "stock_crypto_data.tail(3)"
   ]
  },
  {
   "cell_type": "markdown",
   "metadata": {},
   "source": [
    "#### Exporting to csv with index 'False' in order to not create another unnamed column"
   ]
  },
  {
   "cell_type": "code",
   "execution_count": 15,
   "metadata": {},
   "outputs": [],
   "source": [
    "stock_crypto_data.to_csv('../Data/stock_crypto_data.csv', index = False)\n",
    "stock_text_title.to_csv('../Data/stock_text_title.csv' , index = False)\n",
    "crypto_text_title.to_csv('../Data/crypto_text_title.csv' , index = False)"
   ]
  }
 ],
 "metadata": {
  "kernelspec": {
   "display_name": "Python 3",
   "language": "python",
   "name": "python3"
  },
  "language_info": {
   "codemirror_mode": {
    "name": "ipython",
    "version": 3
   },
   "file_extension": ".py",
   "mimetype": "text/x-python",
   "name": "python",
   "nbconvert_exporter": "python",
   "pygments_lexer": "ipython3",
   "version": "3.6.5"
  }
 },
 "nbformat": 4,
 "nbformat_minor": 2
}
